{
 "cells": [
  {
   "cell_type": "markdown",
   "id": "e9616258",
   "metadata": {},
   "source": [
    "let's use this outline as a tool to track the project as we work through the analysis. "
   ]
  },
  {
   "cell_type": "markdown",
   "id": "fdf56d87",
   "metadata": {},
   "source": [
    "I. Determine the big picture:"
   ]
  },
  {
   "cell_type": "markdown",
   "id": "1a361eb0",
   "metadata": {},
   "source": [
    "II. Get the Data:"
   ]
  },
  {
   "cell_type": "markdown",
   "id": "ba301ce3",
   "metadata": {},
   "source": [
    "III. Explore and Visualize Data for Preliminary Analysis:"
   ]
  },
  {
   "cell_type": "markdown",
   "id": "fb6301e8",
   "metadata": {},
   "source": [
    "IV. Prepare Data for Machine Learning:"
   ]
  },
  {
   "cell_type": "markdown",
   "id": "f4a3fb28",
   "metadata": {},
   "source": [
    "V. Select Model and Train It"
   ]
  },
  {
   "cell_type": "markdown",
   "id": "f63c3f0f",
   "metadata": {},
   "source": [
    "VI. Fine Tune Model"
   ]
  },
  {
   "cell_type": "markdown",
   "id": "97d7f068",
   "metadata": {},
   "source": [
    "VII.Present Solution"
   ]
  },
  {
   "cell_type": "markdown",
   "id": "d829f68b",
   "metadata": {},
   "source": [
    "VIII. Launch System"
   ]
  },
  {
   "cell_type": "markdown",
   "id": "dac41ca7",
   "metadata": {},
   "source": []
  }
 ],
 "metadata": {
  "kernelspec": {
   "display_name": "pythondata",
   "language": "python",
   "name": "pythondata"
  },
  "language_info": {
   "codemirror_mode": {
    "name": "ipython",
    "version": 3
   },
   "file_extension": ".py",
   "mimetype": "text/x-python",
   "name": "python",
   "nbconvert_exporter": "python",
   "pygments_lexer": "ipython3",
   "version": "3.9.12"
  }
 },
 "nbformat": 4,
 "nbformat_minor": 5
}
